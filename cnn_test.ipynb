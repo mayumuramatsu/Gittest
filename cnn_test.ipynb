{
 "cells": [
  {
   "cell_type": "code",
   "execution_count": 2,
   "metadata": {},
   "outputs": [
    {
     "name": "stderr",
     "output_type": "stream",
     "text": [
      "Using TensorFlow backend.\n"
     ]
    }
   ],
   "source": [
    "from keras.datasets  import mnist\n",
    "from keras.utils     import np_utils\n",
    "from keras.models    import Sequential\n",
    "from keras.layers    import Dense, Activation, Flatten, Dropout, Conv2D, MaxPooling2D, Reshape\n",
    "from keras.callbacks import EarlyStopping"
   ]
  },
  {
   "cell_type": "code",
   "execution_count": 3,
   "metadata": {},
   "outputs": [],
   "source": [
    "(x_train,y_train),(x_test,y_test) = mnist.load_data()\n",
    "x_train = x_train / 255.0\n",
    "x_test  = x_test  / 255.0\n",
    "y_train = np_utils.to_categorical(y_train,num_classes=10)\n",
    "y_test  = np_utils.to_categorical(y_train,num_classes=10)"
   ]
  },
  {
   "cell_type": "code",
   "execution_count": null,
   "metadata": {},
   "outputs": [
    {
     "name": "stdout",
     "output_type": "stream",
     "text": [
      "Train on 48000 samples, validate on 12000 samples\n",
      "Epoch 1/10\n",
      "47900/48000 [============================>.] - ETA: 3s - loss: 0.2520 - acc: 0.9235  - ETA: 274s - loss: 0.281 - ETA: 232s - loss: 0.2755 - acc: - ETA: 212s - loss: 0.2727 - a - ETA: 181s - loss: 0.2689 - acc: 0.9 - ETA: 172s - loss: 0.2676 - acc - ETA: 144s - lo"
     ]
    },
    {
     "name": "stderr",
     "output_type": "stream",
     "text": [
      "/home/mayu/.local/lib/python3.6/site-packages/keras/callbacks.py:496: RuntimeWarning: Early stopping conditioned on metric `vav_acc` which is not available. Available metrics are: val_loss,val_acc,loss,acc\n",
      "  (self.monitor, ','.join(list(logs.keys()))), RuntimeWarning\n"
     ]
    },
    {
     "name": "stdout",
     "output_type": "stream",
     "text": [
      "48000/48000 [==============================] - 1957s - loss: 0.2517 - acc: 0.9236 - val_loss: 0.0625 - val_acc: 0.9818\n",
      "Epoch 2/10\n",
      "48000/48000 [==============================] - 3162s - loss: 0.0861 - acc: 0.9742 - val_loss: 0.0477 - val_acc: 0.9871 0. - ETA: 743s - loss: 0.0907 -  - ETA: 728s - loss: 0.0909 - acc: 0.9 - ETA: 732s - loss: 0.0908 - - ETA: 721s - loss: 0.0906 - acc: 0. - ETA: 727s - loss: 0.0904 -  - ETA: 727s - loss: 0.0903 - acc: 0. - ETA: 716s - loss: 0.0899 - acc: 0 - ETA: 715s - loss: 0.0897 - acc: 0.9 - ETA: 710s - loss: 0.0893 - acc: 0.972 - ETA: 713s - loss: 0.0893 - acc: 0 - ETA: 709s - loss: 0.0892 - acc: 0.973 - ETA: 707s - loss: 0.0894 - acc: 0 - ETA: 693s - loss: 0.0895 - acc:  - ETA: 677s - loss: 0.0895 - acc: 0.972 - ETA: 682s - loss: 0.089 - ETA: 622s - loss: 0.0885 - acc: 0.9 - ETA: 604s - loss: 0.0882 - - ETA: 533s - l - ETA:\n",
      "Epoch 3/10\n",
      " 3400/48000 [=>............................] - ETA: 13193s - loss: 0.0644 - acc: 0.9832- ETA: 16288s - loss: 0.0644 - acc: 0. - ETA: 19642s - loss: 0.0518 - acc: 0.984 - ETA: 18945s - loss: 0.0523 - acc:  - ETA: 14251s - loss: 0.0496 - acc: 0.98 - ETA: 13718s - loss: 0.0546 - ETA: 13506s - loss: 0.0640 - acc: 0.98"
     ]
    }
   ],
   "source": [
    "model = Sequential()\n",
    "model.add(Reshape((28,28,1),input_shape=(28,28)))\n",
    "\n",
    "model.add(Conv2D(50,(5,5),activation='relu'))\n",
    "model.add(Conv2D(50,(3,3),activation='relu'))\n",
    "model.add(MaxPooling2D(pool_size=(2,2)))\n",
    "\n",
    "model.add(Flatten())\n",
    "model.add(Dropout(0.2))\n",
    "\n",
    "model.add(Dense(100,activation='relu'))\n",
    "model.add(Dropout(0.4))\n",
    "\n",
    "model.add(Dense(10 ,activation='softmax'))\n",
    "\n",
    "model.compile(loss='categorical_crossentropy', optimizer='adam', metrics=['accuracy'])\n",
    "es = EarlyStopping(monitor='vav_acc')\n",
    "\n",
    "model.fit(x_train, y_train, batch_size=100, validation_split=0.2, callbacks=[es])\n",
    "model.evaluate(x_test, y_test, verbose)"
   ]
  },
  {
   "cell_type": "code",
   "execution_count": null,
   "metadata": {
    "collapsed": true
   },
   "outputs": [],
   "source": []
  }
 ],
 "metadata": {
  "kernelspec": {
   "display_name": "Python 3",
   "language": "python",
   "name": "python3"
  },
  "language_info": {
   "codemirror_mode": {
    "name": "ipython",
    "version": 3
   },
   "file_extension": ".py",
   "mimetype": "text/x-python",
   "name": "python",
   "nbconvert_exporter": "python",
   "pygments_lexer": "ipython3",
   "version": "3.6.2"
  }
 },
 "nbformat": 4,
 "nbformat_minor": 2
}

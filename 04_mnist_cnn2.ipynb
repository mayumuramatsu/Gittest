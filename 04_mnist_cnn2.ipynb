{
 "cells": [
  {
   "cell_type": "code",
   "execution_count": 41,
   "metadata": {
    "collapsed": true,
    "scrolled": true
   },
   "outputs": [],
   "source": [
    "import matplotlib.pyplot as plt\n",
    "%matplotlib inline"
   ]
  },
  {
   "cell_type": "code",
   "execution_count": 42,
   "metadata": {
    "collapsed": true
   },
   "outputs": [],
   "source": [
    "import numpy as np"
   ]
  },
  {
   "cell_type": "code",
   "execution_count": 43,
   "metadata": {
    "collapsed": true
   },
   "outputs": [],
   "source": [
    "f = np.load('mnist.npz')\n",
    "\n",
    "x_train = f['x_train']\n",
    "y_train = f['y_train']\n",
    "x_test  = f['x_test' ]\n",
    "y_test  = f['y_test' ]"
   ]
  },
  {
   "cell_type": "code",
   "execution_count": 44,
   "metadata": {
    "collapsed": true
   },
   "outputs": [],
   "source": [
    "x_train = np.reshape( x_train, (60000,28,28,1) ) / 255.\n",
    "x_test  = np.reshape( x_test , (10000,28,28,1) ) / 255."
   ]
  },
  {
   "cell_type": "code",
   "execution_count": 45,
   "metadata": {
    "collapsed": true
   },
   "outputs": [],
   "source": [
    "y_train = np.eye(10)[y_train]\n",
    "y_test  = np.eye(10)[y_test ]"
   ]
  },
  {
   "cell_type": "code",
   "execution_count": 46,
   "metadata": {},
   "outputs": [],
   "source": [
    "from keras.layers import Input, Conv2D, Flatten, Dense\n",
    "\n",
    "x = Input(shape=(28,28,1))\n",
    "h = Conv2D(filters=16, kernel_size=(3,3), padding='same', activation='relu')(x)\n",
    "h = Conv2D(filters=16, kernel_size=(3,3), padding='same', activation='relu')(h)\n",
    "h = Flatten()(h)\n",
    "h = Dense(32, activation='relu')(h)\n",
    "h = Dense(32, activation='relu')(h)\n",
    "y = Dense(10, activation='softmax')(h)"
   ]
  },
  {
   "cell_type": "code",
   "execution_count": 47,
   "metadata": {
    "collapsed": true
   },
   "outputs": [],
   "source": [
    "from keras.models import Model\n",
    "\n",
    "cnn = Model(inputs=x, outputs=y)"
   ]
  },
  {
   "cell_type": "code",
   "execution_count": 48,
   "metadata": {},
   "outputs": [
    {
     "name": "stdout",
     "output_type": "stream",
     "text": [
      "_________________________________________________________________\n",
      "Layer (type)                 Output Shape              Param #   \n",
      "=================================================================\n",
      "input_2 (InputLayer)         (None, 28, 28, 1)         0         \n",
      "_________________________________________________________________\n",
      "conv2d_3 (Conv2D)            (None, 28, 28, 16)        160       \n",
      "_________________________________________________________________\n",
      "conv2d_4 (Conv2D)            (None, 28, 28, 16)        2320      \n",
      "_________________________________________________________________\n",
      "flatten_2 (Flatten)          (None, 12544)             0         \n",
      "_________________________________________________________________\n",
      "dense_4 (Dense)              (None, 32)                401440    \n",
      "_________________________________________________________________\n",
      "dense_5 (Dense)              (None, 32)                1056      \n",
      "_________________________________________________________________\n",
      "dense_6 (Dense)              (None, 10)                330       \n",
      "=================================================================\n",
      "Total params: 405,306\n",
      "Trainable params: 405,306\n",
      "Non-trainable params: 0\n",
      "_________________________________________________________________\n"
     ]
    }
   ],
   "source": [
    "cnn.summary()"
   ]
  },
  {
   "cell_type": "code",
   "execution_count": 49,
   "metadata": {
    "scrolled": true
   },
   "outputs": [
    {
     "data": {
      "image/svg+xml": [
       "<svg height=\"553pt\" viewBox=\"0.00 0.00 304.00 553.00\" width=\"304pt\" xmlns=\"http://www.w3.org/2000/svg\" xmlns:xlink=\"http://www.w3.org/1999/xlink\">\n",
       "<g class=\"graph\" id=\"graph0\" transform=\"scale(1 1) rotate(0) translate(4 549)\">\n",
       "<title>G</title>\n",
       "<polygon fill=\"white\" points=\"-4,4 -4,-549 300,-549 300,4 -4,4\" stroke=\"none\"/>\n",
       "<!-- 139961521368816 -->\n",
       "<g class=\"node\" id=\"node1\"><title>139961521368816</title>\n",
       "<polygon fill=\"none\" points=\"2.5,-498.5 2.5,-544.5 293.5,-544.5 293.5,-498.5 2.5,-498.5\" stroke=\"black\"/>\n",
       "<text font-family=\"Times,serif\" font-size=\"14.00\" text-anchor=\"middle\" x=\"65\" y=\"-517.8\">input_2: InputLayer</text>\n",
       "<polyline fill=\"none\" points=\"127.5,-498.5 127.5,-544.5 \" stroke=\"black\"/>\n",
       "<text font-family=\"Times,serif\" font-size=\"14.00\" text-anchor=\"middle\" x=\"155\" y=\"-529.3\">input:</text>\n",
       "<polyline fill=\"none\" points=\"127.5,-521.5 182.5,-521.5 \" stroke=\"black\"/>\n",
       "<text font-family=\"Times,serif\" font-size=\"14.00\" text-anchor=\"middle\" x=\"155\" y=\"-506.3\">output:</text>\n",
       "<polyline fill=\"none\" points=\"182.5,-498.5 182.5,-544.5 \" stroke=\"black\"/>\n",
       "<text font-family=\"Times,serif\" font-size=\"14.00\" text-anchor=\"middle\" x=\"238\" y=\"-529.3\">(None, 28, 28, 1)</text>\n",
       "<polyline fill=\"none\" points=\"182.5,-521.5 293.5,-521.5 \" stroke=\"black\"/>\n",
       "<text font-family=\"Times,serif\" font-size=\"14.00\" text-anchor=\"middle\" x=\"238\" y=\"-506.3\">(None, 28, 28, 1)</text>\n",
       "</g>\n",
       "<!-- 139961521368312 -->\n",
       "<g class=\"node\" id=\"node2\"><title>139961521368312</title>\n",
       "<polygon fill=\"none\" points=\"0,-415.5 0,-461.5 296,-461.5 296,-415.5 0,-415.5\" stroke=\"black\"/>\n",
       "<text font-family=\"Times,serif\" font-size=\"14.00\" text-anchor=\"middle\" x=\"61.5\" y=\"-434.8\">conv2d_3: Conv2D</text>\n",
       "<polyline fill=\"none\" points=\"123,-415.5 123,-461.5 \" stroke=\"black\"/>\n",
       "<text font-family=\"Times,serif\" font-size=\"14.00\" text-anchor=\"middle\" x=\"150.5\" y=\"-446.3\">input:</text>\n",
       "<polyline fill=\"none\" points=\"123,-438.5 178,-438.5 \" stroke=\"black\"/>\n",
       "<text font-family=\"Times,serif\" font-size=\"14.00\" text-anchor=\"middle\" x=\"150.5\" y=\"-423.3\">output:</text>\n",
       "<polyline fill=\"none\" points=\"178,-415.5 178,-461.5 \" stroke=\"black\"/>\n",
       "<text font-family=\"Times,serif\" font-size=\"14.00\" text-anchor=\"middle\" x=\"237\" y=\"-446.3\">(None, 28, 28, 1)</text>\n",
       "<polyline fill=\"none\" points=\"178,-438.5 296,-438.5 \" stroke=\"black\"/>\n",
       "<text font-family=\"Times,serif\" font-size=\"14.00\" text-anchor=\"middle\" x=\"237\" y=\"-423.3\">(None, 28, 28, 16)</text>\n",
       "</g>\n",
       "<!-- 139961521368816&#45;&gt;139961521368312 -->\n",
       "<g class=\"edge\" id=\"edge1\"><title>139961521368816-&gt;139961521368312</title>\n",
       "<path d=\"M148,-498.366C148,-490.152 148,-480.658 148,-471.725\" fill=\"none\" stroke=\"black\"/>\n",
       "<polygon fill=\"black\" points=\"151.5,-471.607 148,-461.607 144.5,-471.607 151.5,-471.607\" stroke=\"black\"/>\n",
       "</g>\n",
       "<!-- 139961521715520 -->\n",
       "<g class=\"node\" id=\"node3\"><title>139961521715520</title>\n",
       "<polygon fill=\"none\" points=\"0,-332.5 0,-378.5 296,-378.5 296,-332.5 0,-332.5\" stroke=\"black\"/>\n",
       "<text font-family=\"Times,serif\" font-size=\"14.00\" text-anchor=\"middle\" x=\"61.5\" y=\"-351.8\">conv2d_4: Conv2D</text>\n",
       "<polyline fill=\"none\" points=\"123,-332.5 123,-378.5 \" stroke=\"black\"/>\n",
       "<text font-family=\"Times,serif\" font-size=\"14.00\" text-anchor=\"middle\" x=\"150.5\" y=\"-363.3\">input:</text>\n",
       "<polyline fill=\"none\" points=\"123,-355.5 178,-355.5 \" stroke=\"black\"/>\n",
       "<text font-family=\"Times,serif\" font-size=\"14.00\" text-anchor=\"middle\" x=\"150.5\" y=\"-340.3\">output:</text>\n",
       "<polyline fill=\"none\" points=\"178,-332.5 178,-378.5 \" stroke=\"black\"/>\n",
       "<text font-family=\"Times,serif\" font-size=\"14.00\" text-anchor=\"middle\" x=\"237\" y=\"-363.3\">(None, 28, 28, 16)</text>\n",
       "<polyline fill=\"none\" points=\"178,-355.5 296,-355.5 \" stroke=\"black\"/>\n",
       "<text font-family=\"Times,serif\" font-size=\"14.00\" text-anchor=\"middle\" x=\"237\" y=\"-340.3\">(None, 28, 28, 16)</text>\n",
       "</g>\n",
       "<!-- 139961521368312&#45;&gt;139961521715520 -->\n",
       "<g class=\"edge\" id=\"edge2\"><title>139961521368312-&gt;139961521715520</title>\n",
       "<path d=\"M148,-415.366C148,-407.152 148,-397.658 148,-388.725\" fill=\"none\" stroke=\"black\"/>\n",
       "<polygon fill=\"black\" points=\"151.5,-388.607 148,-378.607 144.5,-388.607 151.5,-388.607\" stroke=\"black\"/>\n",
       "</g>\n",
       "<!-- 139961569748192 -->\n",
       "<g class=\"node\" id=\"node4\"><title>139961569748192</title>\n",
       "<polygon fill=\"none\" points=\"6.5,-249.5 6.5,-295.5 289.5,-295.5 289.5,-249.5 6.5,-249.5\" stroke=\"black\"/>\n",
       "<text font-family=\"Times,serif\" font-size=\"14.00\" text-anchor=\"middle\" x=\"61.5\" y=\"-268.8\">flatten_2: Flatten</text>\n",
       "<polyline fill=\"none\" points=\"116.5,-249.5 116.5,-295.5 \" stroke=\"black\"/>\n",
       "<text font-family=\"Times,serif\" font-size=\"14.00\" text-anchor=\"middle\" x=\"144\" y=\"-280.3\">input:</text>\n",
       "<polyline fill=\"none\" points=\"116.5,-272.5 171.5,-272.5 \" stroke=\"black\"/>\n",
       "<text font-family=\"Times,serif\" font-size=\"14.00\" text-anchor=\"middle\" x=\"144\" y=\"-257.3\">output:</text>\n",
       "<polyline fill=\"none\" points=\"171.5,-249.5 171.5,-295.5 \" stroke=\"black\"/>\n",
       "<text font-family=\"Times,serif\" font-size=\"14.00\" text-anchor=\"middle\" x=\"230.5\" y=\"-280.3\">(None, 28, 28, 16)</text>\n",
       "<polyline fill=\"none\" points=\"171.5,-272.5 289.5,-272.5 \" stroke=\"black\"/>\n",
       "<text font-family=\"Times,serif\" font-size=\"14.00\" text-anchor=\"middle\" x=\"230.5\" y=\"-257.3\">(None, 12544)</text>\n",
       "</g>\n",
       "<!-- 139961521715520&#45;&gt;139961569748192 -->\n",
       "<g class=\"edge\" id=\"edge3\"><title>139961521715520-&gt;139961569748192</title>\n",
       "<path d=\"M148,-332.366C148,-324.152 148,-314.658 148,-305.725\" fill=\"none\" stroke=\"black\"/>\n",
       "<polygon fill=\"black\" points=\"151.5,-305.607 148,-295.607 144.5,-305.607 151.5,-305.607\" stroke=\"black\"/>\n",
       "</g>\n",
       "<!-- 139961521389072 -->\n",
       "<g class=\"node\" id=\"node5\"><title>139961521389072</title>\n",
       "<polygon fill=\"none\" points=\"21.5,-166.5 21.5,-212.5 274.5,-212.5 274.5,-166.5 21.5,-166.5\" stroke=\"black\"/>\n",
       "<text font-family=\"Times,serif\" font-size=\"14.00\" text-anchor=\"middle\" x=\"72.5\" y=\"-185.8\">dense_4: Dense</text>\n",
       "<polyline fill=\"none\" points=\"123.5,-166.5 123.5,-212.5 \" stroke=\"black\"/>\n",
       "<text font-family=\"Times,serif\" font-size=\"14.00\" text-anchor=\"middle\" x=\"151\" y=\"-197.3\">input:</text>\n",
       "<polyline fill=\"none\" points=\"123.5,-189.5 178.5,-189.5 \" stroke=\"black\"/>\n",
       "<text font-family=\"Times,serif\" font-size=\"14.00\" text-anchor=\"middle\" x=\"151\" y=\"-174.3\">output:</text>\n",
       "<polyline fill=\"none\" points=\"178.5,-166.5 178.5,-212.5 \" stroke=\"black\"/>\n",
       "<text font-family=\"Times,serif\" font-size=\"14.00\" text-anchor=\"middle\" x=\"226.5\" y=\"-197.3\">(None, 12544)</text>\n",
       "<polyline fill=\"none\" points=\"178.5,-189.5 274.5,-189.5 \" stroke=\"black\"/>\n",
       "<text font-family=\"Times,serif\" font-size=\"14.00\" text-anchor=\"middle\" x=\"226.5\" y=\"-174.3\">(None, 32)</text>\n",
       "</g>\n",
       "<!-- 139961569748192&#45;&gt;139961521389072 -->\n",
       "<g class=\"edge\" id=\"edge4\"><title>139961569748192-&gt;139961521389072</title>\n",
       "<path d=\"M148,-249.366C148,-241.152 148,-231.658 148,-222.725\" fill=\"none\" stroke=\"black\"/>\n",
       "<polygon fill=\"black\" points=\"151.5,-222.607 148,-212.607 144.5,-222.607 151.5,-222.607\" stroke=\"black\"/>\n",
       "</g>\n",
       "<!-- 139961521047368 -->\n",
       "<g class=\"node\" id=\"node6\"><title>139961521047368</title>\n",
       "<polygon fill=\"none\" points=\"31.5,-83.5 31.5,-129.5 264.5,-129.5 264.5,-83.5 31.5,-83.5\" stroke=\"black\"/>\n",
       "<text font-family=\"Times,serif\" font-size=\"14.00\" text-anchor=\"middle\" x=\"82.5\" y=\"-102.8\">dense_5: Dense</text>\n",
       "<polyline fill=\"none\" points=\"133.5,-83.5 133.5,-129.5 \" stroke=\"black\"/>\n",
       "<text font-family=\"Times,serif\" font-size=\"14.00\" text-anchor=\"middle\" x=\"161\" y=\"-114.3\">input:</text>\n",
       "<polyline fill=\"none\" points=\"133.5,-106.5 188.5,-106.5 \" stroke=\"black\"/>\n",
       "<text font-family=\"Times,serif\" font-size=\"14.00\" text-anchor=\"middle\" x=\"161\" y=\"-91.3\">output:</text>\n",
       "<polyline fill=\"none\" points=\"188.5,-83.5 188.5,-129.5 \" stroke=\"black\"/>\n",
       "<text font-family=\"Times,serif\" font-size=\"14.00\" text-anchor=\"middle\" x=\"226.5\" y=\"-114.3\">(None, 32)</text>\n",
       "<polyline fill=\"none\" points=\"188.5,-106.5 264.5,-106.5 \" stroke=\"black\"/>\n",
       "<text font-family=\"Times,serif\" font-size=\"14.00\" text-anchor=\"middle\" x=\"226.5\" y=\"-91.3\">(None, 32)</text>\n",
       "</g>\n",
       "<!-- 139961521389072&#45;&gt;139961521047368 -->\n",
       "<g class=\"edge\" id=\"edge5\"><title>139961521389072-&gt;139961521047368</title>\n",
       "<path d=\"M148,-166.366C148,-158.152 148,-148.658 148,-139.725\" fill=\"none\" stroke=\"black\"/>\n",
       "<polygon fill=\"black\" points=\"151.5,-139.607 148,-129.607 144.5,-139.607 151.5,-139.607\" stroke=\"black\"/>\n",
       "</g>\n",
       "<!-- 139961520705888 -->\n",
       "<g class=\"node\" id=\"node7\"><title>139961520705888</title>\n",
       "<polygon fill=\"none\" points=\"31.5,-0.5 31.5,-46.5 264.5,-46.5 264.5,-0.5 31.5,-0.5\" stroke=\"black\"/>\n",
       "<text font-family=\"Times,serif\" font-size=\"14.00\" text-anchor=\"middle\" x=\"82.5\" y=\"-19.8\">dense_6: Dense</text>\n",
       "<polyline fill=\"none\" points=\"133.5,-0.5 133.5,-46.5 \" stroke=\"black\"/>\n",
       "<text font-family=\"Times,serif\" font-size=\"14.00\" text-anchor=\"middle\" x=\"161\" y=\"-31.3\">input:</text>\n",
       "<polyline fill=\"none\" points=\"133.5,-23.5 188.5,-23.5 \" stroke=\"black\"/>\n",
       "<text font-family=\"Times,serif\" font-size=\"14.00\" text-anchor=\"middle\" x=\"161\" y=\"-8.3\">output:</text>\n",
       "<polyline fill=\"none\" points=\"188.5,-0.5 188.5,-46.5 \" stroke=\"black\"/>\n",
       "<text font-family=\"Times,serif\" font-size=\"14.00\" text-anchor=\"middle\" x=\"226.5\" y=\"-31.3\">(None, 32)</text>\n",
       "<polyline fill=\"none\" points=\"188.5,-23.5 264.5,-23.5 \" stroke=\"black\"/>\n",
       "<text font-family=\"Times,serif\" font-size=\"14.00\" text-anchor=\"middle\" x=\"226.5\" y=\"-8.3\">(None, 10)</text>\n",
       "</g>\n",
       "<!-- 139961521047368&#45;&gt;139961520705888 -->\n",
       "<g class=\"edge\" id=\"edge6\"><title>139961521047368-&gt;139961520705888</title>\n",
       "<path d=\"M148,-83.3664C148,-75.1516 148,-65.6579 148,-56.7252\" fill=\"none\" stroke=\"black\"/>\n",
       "<polygon fill=\"black\" points=\"151.5,-56.6068 148,-46.6068 144.5,-56.6069 151.5,-56.6068\" stroke=\"black\"/>\n",
       "</g>\n",
       "</g>\n",
       "</svg>"
      ],
      "text/plain": [
       "<IPython.core.display.SVG object>"
      ]
     },
     "execution_count": 49,
     "metadata": {},
     "output_type": "execute_result"
    }
   ],
   "source": [
    "from IPython.display import SVG\n",
    "from keras.utils.vis_utils import model_to_dot\n",
    "\n",
    "SVG(model_to_dot(cnn, show_shapes=True).create(prog='dot',format='svg'))"
   ]
  },
  {
   "cell_type": "code",
   "execution_count": 50,
   "metadata": {
    "collapsed": true
   },
   "outputs": [],
   "source": [
    "cnn.compile(loss='categorical_crossentropy',optimizer='adam',metrics=['acc'],)"
   ]
  },
  {
   "cell_type": "code",
   "execution_count": 51,
   "metadata": {},
   "outputs": [
    {
     "name": "stdout",
     "output_type": "stream",
     "text": [
      "Train on 54000 samples, validate on 6000 samples\n",
      "Epoch 1/5\n",
      "54000/54000 [==============================] - 110s - loss: 0.1988 - acc: 0.9391 - val_loss: 0.0937 - val_acc: 0.9715\n",
      "Epoch 2/5\n",
      "54000/54000 [==============================] - 110s - loss: 0.0737 - acc: 0.9763 - val_loss: 0.0658 - val_acc: 0.9838\n",
      "Epoch 3/5\n",
      "54000/54000 [==============================] - 112s - loss: 0.0528 - acc: 0.9834 - val_loss: 0.0720 - val_acc: 0.9815\n",
      "Epoch 4/5\n",
      "54000/54000 [==============================] - 109s - loss: 0.0447 - acc: 0.9856 - val_loss: 0.0755 - val_acc: 0.9807\n",
      "Epoch 5/5\n",
      "54000/54000 [==============================] - 108s - loss: 0.0346 - acc: 0.9894 - val_loss: 0.0654 - val_acc: 0.9845\n"
     ]
    }
   ],
   "source": [
    "hist = cnn.fit(x=x_train, y=y_train, epochs=5,validation_split=0.1,)"
   ]
  },
  {
   "cell_type": "code",
   "execution_count": 13,
   "metadata": {},
   "outputs": [
    {
     "data": {
      "text/plain": [
       "Text(0,0.5,'loss')"
      ]
     },
     "execution_count": 13,
     "metadata": {},
     "output_type": "execute_result"
    },
    {
     "data": {
      "image/png": "[encoded data removed]",
      "text/plain": [
       "<matplotlib.figure.Figure at 0x7f4b574d8f28>"
      ]
     },
     "metadata": {},
     "output_type": "display_data"
    }
   ],
   "source": [
    "plt.plot(hist.epoch, hist.history['loss'    ], label='train_loss')\n",
    "plt.plot(hist.epoch, hist.history['val_loss'], label='val_loss'  )\n",
    "plt.legend()\n",
    "plt.xlabel('epoch')\n",
    "plt.ylabel('loss')"
   ]
  },
  {
   "cell_type": "code",
   "execution_count": 14,
   "metadata": {},
   "outputs": [
    {
     "data": {
      "text/plain": [
       "Text(0,0.5,'acc')"
      ]
     },
     "execution_count": 14,
     "metadata": {},
     "output_type": "execute_result"
    },
    {
     "data": {
      "image/png": "[encoded data removed]",
      "text/plain": [
       "<matplotlib.figure.Figure at 0x7f4b56431278>"
      ]
     },
     "metadata": {},
     "output_type": "display_data"
    }
   ],
   "source": [
    "plt.plot(hist.epoch, hist.history['acc'    ], label='train_acc')\n",
    "plt.plot(hist.epoch, hist.history['val_acc'], label='val_acc'  )\n",
    "plt.legend()\n",
    "plt.xlabel('epoch')\n",
    "plt.ylabel('acc')"
   ]
  },
  {
   "cell_type": "code",
   "execution_count": 15,
   "metadata": {},
   "outputs": [
    {
     "name": "stdout",
     "output_type": "stream",
     "text": [
      "10000/10000 [==============================] - 4s     \n"
     ]
    },
    {
     "data": {
      "text/plain": [
       "[0.06662990088566785, 0.98250000000000004]"
      ]
     },
     "execution_count": 15,
     "metadata": {},
     "output_type": "execute_result"
    }
   ],
   "source": [
    "cnn.evaluate( x=x_test, y=y_test )"
   ]
  },
  {
   "cell_type": "code",
   "execution_count": 16,
   "metadata": {
    "collapsed": true
   },
   "outputs": [],
   "source": [
    "pred = cnn.predict(x_test).argmax(axis=1)"
   ]
  },
  {
   "cell_type": "code",
   "execution_count": 40,
   "metadata": {},
   "outputs": [
    {
     "data": {
      "text/plain": [
       "Text(0.5,1,'7')"
      ]
     },
     "execution_count": 40,
     "metadata": {},
     "output_type": "execute_result"
    },
    {
     "data": {
      "image/png": "[encoded data removed]",
      "text/plain": [
       "<matplotlib.figure.Figure at 0x7f4b54c56828>"
      ]
     },
     "metadata": {},
     "output_type": "display_data"
    }
   ],
   "source": [
    "plt.imshow(x_test[0].reshape(28,28))\n",
    "plt.title (str(pred[0]))"
   ]
  },
  {
   "cell_type": "code",
   "execution_count": null,
   "metadata": {
    "collapsed": true
   },
   "outputs": [],
   "source": []
  }
 ],
 "metadata": {
  "kernelspec": {
   "display_name": "Python 3",
   "language": "python",
   "name": "python3"
  },
  "language_info": {
   "codemirror_mode": {
    "name": "ipython",
    "version": 3
   },
   "file_extension": ".py",
   "mimetype": "text/x-python",
   "name": "python",
   "nbconvert_exporter": "python",
   "pygments_lexer": "ipython3",
   "version": "3.6.2"
  }
 },
 "nbformat": 4,
 "nbformat_minor": 2
}
